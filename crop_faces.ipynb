{
  "nbformat": 4,
  "nbformat_minor": 0,
  "metadata": {
    "colab": {
      "provenance": [],
      "include_colab_link": true
    },
    "kernelspec": {
      "name": "python3",
      "display_name": "Python 3"
    },
    "language_info": {
      "name": "python"
    }
  },
  "cells": [
    {
      "cell_type": "markdown",
      "metadata": {
        "id": "view-in-github",
        "colab_type": "text"
      },
      "source": [
        "<a href=\"https://colab.research.google.com/github/AlyGamalAbusenna/Multiclass-Classification-with-Pins-Face-Dataset/blob/main/crop_faces.ipynb\" target=\"_parent\"><img src=\"https://colab.research.google.com/assets/colab-badge.svg\" alt=\"Open In Colab\"/></a>"
      ]
    },
    {
      "cell_type": "code",
      "source": [
        "import zipfile\n",
        "import os\n",
        "import cv2\n",
        "import shutil\n",
        "from PIL import Image\n",
        "import numpy as np\n",
        "\n",
        "class FaceExtractor:\n",
        "    def __init__(self, prototxt_path='deploy.prototxt', model_path='res10_300x300_ssd_iter_140000.caffemodel'):\n",
        "        # Load pre-trained face detection model from Caffe\n",
        "        self.face_net = cv2.dnn.readNetFromCaffe(prototxt_path, model_path)\n",
        "\n",
        "    def extract_faces_from_zip(self, input_zip_path, output_zip_path):\n",
        "        # Create a temporary directory to store the extracted zip content\n",
        "        with zipfile.ZipFile(input_zip_path, 'r') as zip_ref:\n",
        "            temp_dir = 'temp_extracted'\n",
        "            zip_ref.extractall(temp_dir)\n",
        "\n",
        "        cropped_faces_dir = 'cropped_faces'\n",
        "        if os.path.exists(cropped_faces_dir):\n",
        "            shutil.rmtree(cropped_faces_dir)\n",
        "        os.makedirs(cropped_faces_dir, exist_ok=True)\n",
        "\n",
        "        for foldername, subfolders, filenames in os.walk(temp_dir):\n",
        "            for filename in filenames:\n",
        "                if filename.endswith(('.png', '.jpg', '.jpeg')):\n",
        "                    file_path = os.path.join(foldername, filename)\n",
        "                    image = cv2.imread(file_path)\n",
        "                    if image is None:\n",
        "                        continue\n",
        "\n",
        "                    (h, w) = image.shape[:2]\n",
        "                    blob = cv2.dnn.blobFromImage(cv2.resize(image, (300, 300)), 1.0, (300, 300), (104.0, 177.0, 123.0))\n",
        "                    self.face_net.setInput(blob)\n",
        "                    detections = self.face_net.forward()\n",
        "\n",
        "                    for i in range(0, detections.shape[2]):\n",
        "                        confidence = detections[0, 0, i, 2]\n",
        "                        if confidence > 0.5:  # Minimum confidence threshold\n",
        "                            box = detections[0, 0, i, 3:7] * np.array([w, h, w, h])\n",
        "                            (startX, startY, endX, endY) = box.astype(\"int\")\n",
        "\n",
        "                            # Ensure coordinates are within image bounds\n",
        "                            startX = max(0, startX)\n",
        "                            startY = max(0, startY)\n",
        "                            endX = min(w, endX)\n",
        "                            endY = min(h, endY)\n",
        "\n",
        "                            face = image[startY:endY, startX:endX]\n",
        "                            if face.size == 0:\n",
        "                                continue\n",
        "\n",
        "                            # Create directory structure in output if not already present\n",
        "                            relative_path = os.path.relpath(foldername, temp_dir)\n",
        "                            target_folder = os.path.join(cropped_faces_dir, relative_path)\n",
        "                            os.makedirs(target_folder, exist_ok=True)\n",
        "\n",
        "                            # Save cropped face\n",
        "                            cropped_face_path = os.path.join(target_folder, f\"face_{filename}\")\n",
        "                            cv2.imwrite(cropped_face_path, face)\n",
        "\n",
        "        # Zip the cropped faces directory\n",
        "        shutil.make_archive(output_zip_path.replace('.zip', ''), 'zip', cropped_faces_dir)\n",
        "\n",
        "        # Cleanup temporary directories\n",
        "        shutil.rmtree(temp_dir)\n",
        "        shutil.rmtree(cropped_faces_dir)\n",
        "\n",
        "\n",
        "input_zip_path = 'archive.zip'\n",
        "output_zip_path = 'cropped_faces.zip'\n",
        "face_extractor = FaceExtractor()\n",
        "face_extractor.extract_faces_from_zip(input_zip_path, output_zip_path)\n",
        "print(\"The cropped faces have been saved in the new zip file.\")\n"
      ],
      "metadata": {
        "colab": {
          "base_uri": "https://localhost:8080/"
        },
        "id": "YmczP47-4isg",
        "outputId": "e595bb74-a33b-413f-b030-1b67663be3a8"
      },
      "execution_count": null,
      "outputs": [
        {
          "output_type": "stream",
          "name": "stdout",
          "text": [
            "The cropped faces have been saved in the new zip file.\n"
          ]
        }
      ]
    }
  ]
}